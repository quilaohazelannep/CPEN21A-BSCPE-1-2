{
  "nbformat": 4,
  "nbformat_minor": 0,
  "metadata": {
    "colab": {
      "name": "Final Exam.ipynb",
      "provenance": [],
      "authorship_tag": "ABX9TyOrXgRoYb788qGWJ4sKvoAf",
      "include_colab_link": true
    },
    "kernelspec": {
      "name": "python3",
      "display_name": "Python 3"
    },
    "language_info": {
      "name": "python"
    }
  },
  "cells": [
    {
      "cell_type": "markdown",
      "metadata": {
        "id": "view-in-github",
        "colab_type": "text"
      },
      "source": [
        "<a href=\"https://colab.research.google.com/github/quilaohazelannep/CPEN21A-BSCPE-1-2/blob/main/Final_Exam.ipynb\" target=\"_parent\"><img src=\"https://colab.research.google.com/assets/colab-badge.svg\" alt=\"Open In Colab\"/></a>"
      ]
    },
    {
      "cell_type": "markdown",
      "source": [
        "**FINAL EXAM**"
      ],
      "metadata": {
        "id": "w0e4-OY_9Dlj"
      }
    },
    {
      "cell_type": "markdown",
      "source": [
        "**Problem Statement 1.**"
      ],
      "metadata": {
        "id": "qWyFlfK39LXl"
      }
    },
    {
      "cell_type": "code",
      "source": [
        "num = [4,3,2,1,0,-1,-2,-3,-4,-5]\n",
        "sum = 0\n",
        "for x in numbers:\n",
        "  sum = + x\n",
        "print(x)"
      ],
      "metadata": {
        "colab": {
          "base_uri": "https://localhost:8080/"
        },
        "id": "k4Q5w0c19SWI",
        "outputId": "8e3c8a93-63a2-41de-fca0-02c8b85514e0"
      },
      "execution_count": null,
      "outputs": [
        {
          "output_type": "stream",
          "name": "stdout",
          "text": [
            "-5\n"
          ]
        }
      ]
    },
    {
      "cell_type": "markdown",
      "source": [
        "**Problem Statement 2.**"
      ],
      "metadata": {
        "id": "N0VKn7ceAwac"
      }
    },
    {
      "cell_type": "code",
      "source": [
        "i = 1\n",
        "empty_list = []\n",
        "\n",
        "while i <=5:\n",
        "  num = int(input(\"Enter a value: \"))\n",
        "  if i == 1:\n",
        "    first_number =num\n",
        "  if i == 5:\n",
        "    last_number =num\n",
        "  i+=1\n",
        "\n",
        "sum = (first_number + last_number)\n",
        "print(\"\\n\",sum)"
      ],
      "metadata": {
        "id": "AIocKqEhoezm",
        "colab": {
          "base_uri": "https://localhost:8080/"
        },
        "outputId": "808542dd-df32-433e-cbf5-f6ae373835fd"
      },
      "execution_count": 8,
      "outputs": [
        {
          "output_type": "stream",
          "name": "stdout",
          "text": [
            "Enter a value: 66\n",
            "Enter a value: 43\n",
            "Enter a value: 90\n",
            "Enter a value: 42\n",
            "Enter a value: 44\n",
            "\n",
            " 110\n"
          ]
        }
      ]
    },
    {
      "cell_type": "markdown",
      "source": [
        "**Problem Statement 3.**"
      ],
      "metadata": {
        "id": "mBaSNNpxzAq-"
      }
    },
    {
      "cell_type": "code",
      "source": [
        "n = int(input(\"Enter the grade: \"))\n",
        "if n>=90 and n<=100:\n",
        "  print(\"Grade: A\")\n",
        "elif n>=80 and n<=89:\n",
        "  print(\"Grade: B\")\n",
        "elif n>=70 and n<=79:\n",
        "  print(\"Grade: C\")\n",
        "elif n>=60 and n<=69:\n",
        "  print(\"Grade: D\")\n",
        "else:\n",
        "  print(\"Grade: F\")"
      ],
      "metadata": {
        "colab": {
          "base_uri": "https://localhost:8080/"
        },
        "id": "YwDY0Fb4zIuH",
        "outputId": "8ecb7bd1-2931-485c-80d6-908e5b7fbf0b"
      },
      "execution_count": 9,
      "outputs": [
        {
          "output_type": "stream",
          "name": "stdout",
          "text": [
            "Enter the grade: 93\n",
            "Grade: A\n"
          ]
        }
      ]
    }
  ]
}