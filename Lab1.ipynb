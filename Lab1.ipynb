{
  "nbformat": 4,
  "nbformat_minor": 0,
  "metadata": {
    "colab": {
      "name": "Lab1.ipynb",
      "provenance": [],
      "authorship_tag": "ABX9TyPZINcC9EXa/K8RAM4E/S7w",
      "include_colab_link": true
    },
    "kernelspec": {
      "name": "python3",
      "display_name": "Python 3"
    },
    "language_info": {
      "name": "python"
    }
  },
  "cells": [
    {
      "cell_type": "markdown",
      "metadata": {
        "id": "view-in-github",
        "colab_type": "text"
      },
      "source": [
        "<a href=\"https://colab.research.google.com/github/quilaohazelannep/CPEN21A-BSCPE-1-2/blob/main/Lab1.ipynb\" target=\"_parent\"><img src=\"https://colab.research.google.com/assets/colab-badge.svg\" alt=\"Open In Colab\"/></a>"
      ]
    },
    {
      "cell_type": "markdown",
      "metadata": {
        "id": "gAZK50bn6nUk"
      },
      "source": [
        "Welcome to Python Programming"
      ]
    },
    {
      "cell_type": "code",
      "metadata": {
        "colab": {
          "base_uri": "https://localhost:8080/"
        },
        "id": "PYgpN67I6rPf",
        "outputId": "b0bf87d0-38ee-48c3-8431-75eeb2858fcc"
      },
      "source": [
        "x= \"Quilao\"\n",
        "print(\"Hazel Anne P. \"+x)"
      ],
      "execution_count": 3,
      "outputs": [
        {
          "output_type": "stream",
          "name": "stdout",
          "text": [
            "Hazel Anne P. Quilao\n"
          ]
        }
      ]
    },
    {
      "cell_type": "code",
      "metadata": {
        "colab": {
          "base_uri": "https://localhost:8080/"
        },
        "id": "j6Fpy1y47MJ_",
        "outputId": "a9c58615-689b-466a-b9d1-d948dee4bb47"
      },
      "source": [
        "x= \"St. Michael Village Sungay East Tagaytay City, Cavite\"\n",
        "print(\"I live at \"+x)"
      ],
      "execution_count": 4,
      "outputs": [
        {
          "output_type": "stream",
          "name": "stdout",
          "text": [
            "I live at St. Michael Village Sungay East Tagaytay City, Cavite\n"
          ]
        }
      ]
    },
    {
      "cell_type": "code",
      "metadata": {
        "colab": {
          "base_uri": "https://localhost:8080/"
        },
        "id": "PH_hlhLd7iKE",
        "outputId": "fd4e7f8f-919b-4c4a-b714-3535d80e92ce"
      },
      "source": [
        "x= \"eighteen years old\"\n",
        "print(\"I am \"+x)"
      ],
      "execution_count": 5,
      "outputs": [
        {
          "output_type": "stream",
          "name": "stdout",
          "text": [
            "I am eighteen years old\n"
          ]
        }
      ]
    }
  ]
}