{
  "nbformat": 4,
  "nbformat_minor": 0,
  "metadata": {
    "colab": {
      "name": "Midterm Exam.ipynb",
      "provenance": [],
      "collapsed_sections": [],
      "authorship_tag": "ABX9TyOtHMWtbwoWW65aFnr8EeRv",
      "include_colab_link": true
    },
    "kernelspec": {
      "name": "python3",
      "display_name": "Python 3"
    },
    "language_info": {
      "name": "python"
    }
  },
  "cells": [
    {
      "cell_type": "markdown",
      "metadata": {
        "id": "view-in-github",
        "colab_type": "text"
      },
      "source": [
        "<a href=\"https://colab.research.google.com/github/quilaohazelannep/CPEN21A-BSCPE-1-2/blob/main/Midterm_Exam.ipynb\" target=\"_parent\"><img src=\"https://colab.research.google.com/assets/colab-badge.svg\" alt=\"Open In Colab\"/></a>"
      ]
    },
    {
      "cell_type": "markdown",
      "metadata": {
        "id": "wmrbxdzyBh2U"
      },
      "source": [
        "***Midterm Exam***"
      ]
    },
    {
      "cell_type": "markdown",
      "metadata": {
        "id": "PX1qMEMRBwx4"
      },
      "source": [
        "**PROBLEM STATEMENT 1**"
      ]
    },
    {
      "cell_type": "code",
      "metadata": {
        "colab": {
          "base_uri": "https://localhost:8080/"
        },
        "id": "OYi4mERLB1VR",
        "outputId": "b97dce09-dc48-408c-c70e-f09103fd7f3c"
      },
      "source": [
        "x = \"Hazel Anne\"\n",
        "y = \"P. Quilao\"\n",
        "z = x+y\n",
        "print(z)"
      ],
      "execution_count": 5,
      "outputs": [
        {
          "output_type": "stream",
          "name": "stdout",
          "text": [
            "Hazel AnneP. Quilao\n"
          ]
        }
      ]
    },
    {
      "cell_type": "code",
      "metadata": {
        "colab": {
          "base_uri": "https://localhost:8080/"
        },
        "id": "mcoPs2PuC1eM",
        "outputId": "9661867c-c351-407a-d5d6-68ffbe67aa9d"
      },
      "source": [
        "x = 202102041\n",
        "print(x)"
      ],
      "execution_count": 6,
      "outputs": [
        {
          "output_type": "stream",
          "name": "stdout",
          "text": [
            "202102041\n"
          ]
        }
      ]
    },
    {
      "cell_type": "code",
      "metadata": {
        "colab": {
          "base_uri": "https://localhost:8080/"
        },
        "id": "l4v9WXhSDEQK",
        "outputId": "41c3dca2-d3d3-473d-86cc-bc3daaebd6e6"
      },
      "source": [
        "x = \"18 years old\"\n",
        "print(x)"
      ],
      "execution_count": 7,
      "outputs": [
        {
          "output_type": "stream",
          "name": "stdout",
          "text": [
            "18 years old\n"
          ]
        }
      ]
    },
    {
      "cell_type": "code",
      "metadata": {
        "colab": {
          "base_uri": "https://localhost:8080/"
        },
        "id": "VG5DAGtXDNQz",
        "outputId": "b2fd8563-340c-4726-d441-624b1b528e08"
      },
      "source": [
        "y = \"December 18 2002\"\n",
        "print(y)"
      ],
      "execution_count": 8,
      "outputs": [
        {
          "output_type": "stream",
          "name": "stdout",
          "text": [
            "December 18 2002\n"
          ]
        }
      ]
    },
    {
      "cell_type": "code",
      "metadata": {
        "colab": {
          "base_uri": "https://localhost:8080/"
        },
        "id": "UYlX-5j1DTt1",
        "outputId": "0a0e3549-c3cd-4cee-d884-0e6ac40a6a6b"
      },
      "source": [
        "m = \"St. Micahel Village Brgy. Sungay East Tagaytay City, Cavite\"\n",
        "print(m)"
      ],
      "execution_count": 9,
      "outputs": [
        {
          "output_type": "stream",
          "name": "stdout",
          "text": [
            "St. Micahel Village Brgy. Sungay East Tagaytay City, Cavite\n"
          ]
        }
      ]
    },
    {
      "cell_type": "code",
      "metadata": {
        "colab": {
          "base_uri": "https://localhost:8080/"
        },
        "id": "glO03U7JDk11",
        "outputId": "adb72642-adb8-4419-df14-d6ba6e3c4051"
      },
      "source": [
        "y = \"BSCpE\"\n",
        "print(y)"
      ],
      "execution_count": 15,
      "outputs": [
        {
          "output_type": "stream",
          "name": "stdout",
          "text": [
            "BSCpE\n"
          ]
        }
      ]
    },
    {
      "cell_type": "code",
      "metadata": {
        "colab": {
          "base_uri": "https://localhost:8080/"
        },
        "id": "tUinCeyMEMUj",
        "outputId": "681505a1-c3d3-48f1-fbea-d3160587c13c"
      },
      "source": [
        "x = \"93.323\"\n",
        "print(x)"
      ],
      "execution_count": 68,
      "outputs": [
        {
          "output_type": "stream",
          "name": "stdout",
          "text": [
            "93.323\n"
          ]
        }
      ]
    },
    {
      "cell_type": "markdown",
      "metadata": {
        "id": "5dZOs8q-EcdB"
      },
      "source": [
        "**PROBLEM STATEMENT 2**"
      ]
    },
    {
      "cell_type": "code",
      "metadata": {
        "colab": {
          "base_uri": "https://localhost:8080/"
        },
        "id": "_3H-pHcgEgw7",
        "outputId": "e313f982-729d-4a96-ee12-47419b5d78eb"
      },
      "source": [
        "x = (2<4) and (4<6)\n",
        "print(x)"
      ],
      "execution_count": 17,
      "outputs": [
        {
          "output_type": "stream",
          "name": "stdout",
          "text": [
            "True\n"
          ]
        }
      ]
    },
    {
      "cell_type": "code",
      "metadata": {
        "colab": {
          "base_uri": "https://localhost:8080/"
        },
        "id": "9pPjT2dME_Ds",
        "outputId": "b454fe2e-69c9-415e-9952-0c0df043cecc"
      },
      "source": [
        "x = (2<4) or (4==6)\n",
        "print(x)"
      ],
      "execution_count": 23,
      "outputs": [
        {
          "output_type": "stream",
          "name": "stdout",
          "text": [
            "True\n"
          ]
        }
      ]
    },
    {
      "cell_type": "code",
      "metadata": {
        "colab": {
          "base_uri": "https://localhost:8080/"
        },
        "id": "u_TfzEwRGAGR",
        "outputId": "2163f5f0-5eb5-42a8-cfca-128f55dd9c37"
      },
      "source": [
        "x = not(2<4) or (4==6)\n",
        "print(x)"
      ],
      "execution_count": 29,
      "outputs": [
        {
          "output_type": "stream",
          "name": "stdout",
          "text": [
            "False\n"
          ]
        }
      ]
    },
    {
      "cell_type": "code",
      "metadata": {
        "colab": {
          "base_uri": "https://localhost:8080/"
        },
        "id": "vPhyzqHPGfFM",
        "outputId": "d21651e8-ce8f-4f81-e4b5-c089ca195197"
      },
      "source": [
        "x = not(4<6)\n",
        "print(x)"
      ],
      "execution_count": 64,
      "outputs": [
        {
          "output_type": "stream",
          "name": "stdout",
          "text": [
            "False\n"
          ]
        }
      ]
    },
    {
      "cell_type": "code",
      "metadata": {
        "colab": {
          "base_uri": "https://localhost:8080/"
        },
        "id": "5nSxO_7gGjwI",
        "outputId": "ee0c780c-0391-4fe8-bc09-3cca08ccbbd4"
      },
      "source": [
        "y = (\"Y\"==\"Y\") or (\"Y\"==\"y\")\n",
        "print(y)"
      ],
      "execution_count": 33,
      "outputs": [
        {
          "output_type": "stream",
          "name": "stdout",
          "text": [
            "True\n"
          ]
        }
      ]
    },
    {
      "cell_type": "code",
      "metadata": {
        "colab": {
          "base_uri": "https://localhost:8080/"
        },
        "id": "GG3RS_s-HXNp",
        "outputId": "40e1f444-b120-4ab8-d7c4-31330e1961f5"
      },
      "source": [
        "y = (\"Y\"==\"Y\") and (\"Y\"==\"y\")\n",
        "print(y)"
      ],
      "execution_count": 34,
      "outputs": [
        {
          "output_type": "stream",
          "name": "stdout",
          "text": [
            "False\n"
          ]
        }
      ]
    },
    {
      "cell_type": "code",
      "metadata": {
        "colab": {
          "base_uri": "https://localhost:8080/"
        },
        "id": "e-ijnTBoHl_R",
        "outputId": "c0623786-4d55-440c-8aa1-0a66b6051f70"
      },
      "source": [
        "x = not(\"Y\"==\"y\")\n",
        "print(x)"
      ],
      "execution_count": 36,
      "outputs": [
        {
          "output_type": "stream",
          "name": "stdout",
          "text": [
            "True\n"
          ]
        }
      ]
    },
    {
      "cell_type": "code",
      "metadata": {
        "colab": {
          "base_uri": "https://localhost:8080/"
        },
        "id": "ugn0rW1BINds",
        "outputId": "05a0436d-f61c-40cc-da9d-25928d9a5915"
      },
      "source": [
        "x = ((2<4)and(4==5+1)) or (\"Y\"==\"No\")\n",
        "print(x)"
      ],
      "execution_count": 37,
      "outputs": [
        {
          "output_type": "stream",
          "name": "stdout",
          "text": [
            "False\n"
          ]
        }
      ]
    },
    {
      "cell_type": "code",
      "metadata": {
        "colab": {
          "base_uri": "https://localhost:8080/"
        },
        "id": "3PmQHBKLIozj",
        "outputId": "84a75575-79d3-4e66-b078-728c70bbc805"
      },
      "source": [
        "x = ((4==2)and(4==7) or (\"Y\"==\"Y\"))\n",
        "print(x)"
      ],
      "execution_count": 38,
      "outputs": [
        {
          "output_type": "stream",
          "name": "stdout",
          "text": [
            "True\n"
          ]
        }
      ]
    },
    {
      "cell_type": "code",
      "metadata": {
        "colab": {
          "base_uri": "https://localhost:8080/"
        },
        "id": "aODOmgWQI4kt",
        "outputId": "828035db-1af6-40d7-fd6c-1bb17a8995dc"
      },
      "source": [
        "x = (4==2) and ((4==7)or(\"Y\"==\"Y\"))\n",
        "print(x)"
      ],
      "execution_count": 67,
      "outputs": [
        {
          "output_type": "stream",
          "name": "stdout",
          "text": [
            "False\n"
          ]
        }
      ]
    },
    {
      "cell_type": "markdown",
      "metadata": {
        "id": "c0XQvbBYJpSw"
      },
      "source": [
        "**PROBLEM STATEMENT 3**"
      ]
    },
    {
      "cell_type": "code",
      "metadata": {
        "colab": {
          "base_uri": "https://localhost:8080/"
        },
        "id": "16CBUFyOJtfi",
        "outputId": "a3ed5aae-35cf-4129-d249-fed77696fd14"
      },
      "source": [
        "x = 2\n",
        "y = -3\n",
        "print(x/y)"
      ],
      "execution_count": 46,
      "outputs": [
        {
          "output_type": "stream",
          "name": "stdout",
          "text": [
            "-0.6666666666666666\n"
          ]
        }
      ]
    },
    {
      "cell_type": "code",
      "metadata": {
        "colab": {
          "base_uri": "https://localhost:8080/"
        },
        "id": "MgOm52pEKrFW",
        "outputId": "9c50d6e1-87d0-4d97-958c-b93098f2fc0d"
      },
      "source": [
        "w = 7\n",
        "y = -3\n",
        "x = 2\n",
        "print(w/y/x)"
      ],
      "execution_count": 47,
      "outputs": [
        {
          "output_type": "stream",
          "name": "stdout",
          "text": [
            "-1.1666666666666667\n"
          ]
        }
      ]
    },
    {
      "cell_type": "code",
      "metadata": {
        "colab": {
          "base_uri": "https://localhost:8080/"
        },
        "id": "UeLW5S9wK6vP",
        "outputId": "184e1ba9-778d-4be7-cd81-dd96fc80c6f2"
      },
      "source": [
        "z = -10\n",
        "y = -3\n",
        "x = 2\n",
        "print(z/y%x)"
      ],
      "execution_count": 50,
      "outputs": [
        {
          "output_type": "stream",
          "name": "stdout",
          "text": [
            "1.3333333333333335\n"
          ]
        }
      ]
    },
    {
      "cell_type": "code",
      "metadata": {
        "colab": {
          "base_uri": "https://localhost:8080/"
        },
        "id": "xbZ_kxzlLpnT",
        "outputId": "3ac2a15a-a1b7-4c17-ba1d-202ab2d05221"
      },
      "source": [
        "x = 2\n",
        "y = -3\n",
        "w = 7\n",
        "print(x%-y*w)"
      ],
      "execution_count": 51,
      "outputs": [
        {
          "output_type": "stream",
          "name": "stdout",
          "text": [
            "14\n"
          ]
        }
      ]
    },
    {
      "cell_type": "code",
      "metadata": {
        "colab": {
          "base_uri": "https://localhost:8080/"
        },
        "id": "ddqqqQZ5MIxQ",
        "outputId": "b87abeba-d83c-49a4-b7d8-05c9a121a976"
      },
      "source": [
        "x = 2\n",
        "y = -3\n",
        "print(x%y)"
      ],
      "execution_count": 52,
      "outputs": [
        {
          "output_type": "stream",
          "name": "stdout",
          "text": [
            "-1\n"
          ]
        }
      ]
    },
    {
      "cell_type": "code",
      "metadata": {
        "colab": {
          "base_uri": "https://localhost:8080/"
        },
        "id": "kSHuOcoFMVBg",
        "outputId": "7b1985f6-634a-462e-e3b1-5670aed79688"
      },
      "source": [
        "z = -10\n",
        "w = 7\n",
        "y = -3\n",
        "x = 2\n",
        "print(z%w-y/x*5+5)"
      ],
      "execution_count": 53,
      "outputs": [
        {
          "output_type": "stream",
          "name": "stdout",
          "text": [
            "16.5\n"
          ]
        }
      ]
    },
    {
      "cell_type": "code",
      "metadata": {
        "colab": {
          "base_uri": "https://localhost:8080/"
        },
        "id": "KU4NRarNMled",
        "outputId": "d43ac790-b71a-492f-e5c0-27c1536707f4"
      },
      "source": [
        "x = 2\n",
        "y = -3\n",
        "print(9-x%(2+y))"
      ],
      "execution_count": 54,
      "outputs": [
        {
          "output_type": "stream",
          "name": "stdout",
          "text": [
            "9\n"
          ]
        }
      ]
    },
    {
      "cell_type": "code",
      "metadata": {
        "colab": {
          "base_uri": "https://localhost:8080/"
        },
        "id": "mylAjkUBMw7o",
        "outputId": "8a6a9c39-b512-47ff-8894-995ef15fbc17"
      },
      "source": [
        "z = -10\n",
        "w = 7\n",
        "print(z//w)"
      ],
      "execution_count": 55,
      "outputs": [
        {
          "output_type": "stream",
          "name": "stdout",
          "text": [
            "-2\n"
          ]
        }
      ]
    },
    {
      "cell_type": "code",
      "metadata": {
        "colab": {
          "base_uri": "https://localhost:8080/"
        },
        "id": "MhudYd6RNBD_",
        "outputId": "03c924c6-d0cf-45f8-efde-50f7fea31711"
      },
      "source": [
        "y = -3\n",
        "print( (2+y)**2)"
      ],
      "execution_count": 62,
      "outputs": [
        {
          "output_type": "stream",
          "name": "stdout",
          "text": [
            "1\n"
          ]
        }
      ]
    },
    {
      "cell_type": "code",
      "metadata": {
        "colab": {
          "base_uri": "https://localhost:8080/"
        },
        "id": "ZnzcQZ3FNxVe",
        "outputId": "00a65cc3-54d8-4986-f59e-8d75f74e9b67"
      },
      "source": [
        "w = 7\n",
        "x = 2\n",
        "print(w/x*2)"
      ],
      "execution_count": 63,
      "outputs": [
        {
          "output_type": "stream",
          "name": "stdout",
          "text": [
            "7.0\n"
          ]
        }
      ]
    }
  ]
}