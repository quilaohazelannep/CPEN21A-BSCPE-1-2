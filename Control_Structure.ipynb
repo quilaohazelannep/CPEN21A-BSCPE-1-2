{
  "nbformat": 4,
  "nbformat_minor": 0,
  "metadata": {
    "colab": {
      "name": "Control Structure.ipynb",
      "provenance": [],
      "authorship_tag": "ABX9TyNnKNZEJe7fHE96/ve6aQig",
      "include_colab_link": true
    },
    "kernelspec": {
      "name": "python3",
      "display_name": "Python 3"
    },
    "language_info": {
      "name": "python"
    }
  },
  "cells": [
    {
      "cell_type": "markdown",
      "metadata": {
        "id": "view-in-github",
        "colab_type": "text"
      },
      "source": [
        "<a href=\"https://colab.research.google.com/github/quilaohazelannep/CPEN21A-BSCPE-1-2/blob/main/Control_Structure.ipynb\" target=\"_parent\"><img src=\"https://colab.research.google.com/assets/colab-badge.svg\" alt=\"Open In Colab\"/></a>"
      ]
    },
    {
      "cell_type": "markdown",
      "metadata": {
        "id": "WSAv3AMMIZlz"
      },
      "source": [
        "##If statement"
      ]
    },
    {
      "cell_type": "code",
      "metadata": {
        "colab": {
          "base_uri": "https://localhost:8080/"
        },
        "id": "hyY6JBbFIfS2",
        "outputId": "740ee469-c4e4-47b4-a821-313b40279f8b"
      },
      "source": [
        "a = 12\n",
        "b = 100\n",
        "\n",
        "if b>a:\n",
        "  print(\"b is greater than a\")\n",
        "elif a>b:\n",
        "  print(\"a is greater than b\")"
      ],
      "execution_count": 9,
      "outputs": [
        {
          "output_type": "stream",
          "name": "stdout",
          "text": [
            "b is greater than a\n"
          ]
        }
      ]
    },
    {
      "cell_type": "markdown",
      "metadata": {
        "id": "LclKNG_mKoH7"
      },
      "source": [
        "##Else statement"
      ]
    },
    {
      "cell_type": "code",
      "metadata": {
        "colab": {
          "base_uri": "https://localhost:8080/"
        },
        "id": "i3HJ8J0pKrCq",
        "outputId": "d580450f-b933-4edf-d654-c37483cbc2b1"
      },
      "source": [
        "a = 100\n",
        "b = 100\n",
        "\n",
        "if b>a:\n",
        "  print(\"b is greater than a\")\n",
        "elif a>b:\n",
        "  print(\"a is greater than b\")\n",
        "else:\n",
        "  print(\"a and b are equal\")"
      ],
      "execution_count": 10,
      "outputs": [
        {
          "output_type": "stream",
          "name": "stdout",
          "text": [
            "a and b are equal\n"
          ]
        }
      ]
    },
    {
      "cell_type": "markdown",
      "metadata": {
        "id": "230o_GUzLGNF"
      },
      "source": [
        "##Short Hand If statement"
      ]
    },
    {
      "cell_type": "code",
      "metadata": {
        "colab": {
          "base_uri": "https://localhost:8080/"
        },
        "id": "5UJZV0XtLKU8",
        "outputId": "0df4e7f3-dbf3-4cc9-c108-741990e99474"
      },
      "source": [
        "a=45\n",
        "b=30\n",
        "\n",
        "if a>b: print(\"a is greater than b\")"
      ],
      "execution_count": 11,
      "outputs": [
        {
          "output_type": "stream",
          "name": "stdout",
          "text": [
            "a is greater than b\n"
          ]
        }
      ]
    },
    {
      "cell_type": "markdown",
      "metadata": {
        "id": "QvMX8aMsLY8g"
      },
      "source": [
        "##Short Hand Else Statement"
      ]
    },
    {
      "cell_type": "code",
      "metadata": {
        "colab": {
          "base_uri": "https://localhost:8080/"
        },
        "id": "gfywtSzdLbi2",
        "outputId": "f688c4bc-d1de-4bde-d99a-70441e66e0c4"
      },
      "source": [
        "a=30\n",
        "b=45\n",
        "\n",
        "print(\"a is greater than b\") if a>b else print(\"b is greater than a\")"
      ],
      "execution_count": 12,
      "outputs": [
        {
          "output_type": "stream",
          "name": "stdout",
          "text": [
            "b is greater than a\n"
          ]
        }
      ]
    },
    {
      "cell_type": "markdown",
      "metadata": {
        "id": "SBEq9ssUQOre"
      },
      "source": [
        "##And Logic Condition"
      ]
    },
    {
      "cell_type": "code",
      "metadata": {
        "colab": {
          "base_uri": "https://localhost:8080/"
        },
        "id": "N47GIVScQR7m",
        "outputId": "c26e1e1b-debc-4393-d3f6-0f418ef10c99"
      },
      "source": [
        "x = 7\n",
        "\n",
        "if x > 5 and x > 6:\n",
        "  print(\"Both Conditions are true\")"
      ],
      "execution_count": 13,
      "outputs": [
        {
          "output_type": "stream",
          "name": "stdout",
          "text": [
            "Both Conditions are true\n"
          ]
        }
      ]
    },
    {
      "cell_type": "markdown",
      "metadata": {
        "id": "H1UqrLaZQj-2"
      },
      "source": [
        "##Or Logic Condition"
      ]
    },
    {
      "cell_type": "code",
      "metadata": {
        "colab": {
          "base_uri": "https://localhost:8080/"
        },
        "id": "KrdZkGqAQoeN",
        "outputId": "d7e6952a-ffa8-49fd-fedd-6e1c4116fd14"
      },
      "source": [
        "x = 21\n",
        "if x > 18 or x < 15:\n",
        " print(\"True\")\n",
        "else:\n",
        "  print(\"False\")"
      ],
      "execution_count": 17,
      "outputs": [
        {
          "output_type": "stream",
          "name": "stdout",
          "text": [
            "True\n"
          ]
        }
      ]
    },
    {
      "cell_type": "code",
      "metadata": {
        "colab": {
          "base_uri": "https://localhost:8080/"
        },
        "id": "rg50F5P_RBmA",
        "outputId": "ec02ca9d-9a3b-4b27-d80d-dafd20c4fe20"
      },
      "source": [
        "if x > 10:\n",
        " print(\"Above 10\")\n",
        " if x > 20:\n",
        "  print(\"Above 20\")\n",
        " else:\n",
        "  print(\"Below 20\")\n",
        "else:\n",
        "  print(\"x is less than 10\")"
      ],
      "execution_count": 25,
      "outputs": [
        {
          "output_type": "stream",
          "name": "stdout",
          "text": [
            "Above 10\n",
            "Above 20\n"
          ]
        }
      ]
    },
    {
      "cell_type": "markdown",
      "metadata": {
        "id": "xJ_ZFAOKR_bB"
      },
      "source": [
        "##Example 1"
      ]
    },
    {
      "cell_type": "code",
      "metadata": {
        "colab": {
          "base_uri": "https://localhost:8080/"
        },
        "id": "hkMiMwxbSBSm",
        "outputId": "14be7464-a945-44ee-93ce-0e1c57f0b945"
      },
      "source": [
        "age = int(input(\"Enter your age:\"))\n",
        "if age >= 18:\n",
        "  print(\"You are qualified to vote\")\n",
        "else:\n",
        "  print(\"You are not qualified\")"
      ],
      "execution_count": 28,
      "outputs": [
        {
          "output_type": "stream",
          "name": "stdout",
          "text": [
            "Enter your age:18\n",
            "You are qualified to vote\n"
          ]
        }
      ]
    },
    {
      "cell_type": "markdown",
      "metadata": {
        "id": "fUrYwlDXStZk"
      },
      "source": [
        "##Example 2"
      ]
    },
    {
      "cell_type": "code",
      "metadata": {
        "colab": {
          "base_uri": "https://localhost:8080/"
        },
        "id": "I2r9qOJYSv6p",
        "outputId": "2f0918bc-7b76-48d6-dd35-d5a5804b931b"
      },
      "source": [
        "number = float(input(\"Enter the number:\"))\n",
        "\n",
        "if number == 0:\n",
        "  print(\"Zero\")\n",
        "elif number > 0:\n",
        "  print(\"POSITIVE\")\n",
        "else:\n",
        "  print(\"NEGATIVE\")"
      ],
      "execution_count": 33,
      "outputs": [
        {
          "output_type": "stream",
          "name": "stdout",
          "text": [
            "Enter the number:-86\n",
            "NEGATIVE\n"
          ]
        }
      ]
    },
    {
      "cell_type": "markdown",
      "metadata": {
        "id": "Uv-IDUpET9EZ"
      },
      "source": [
        "##Example 3"
      ]
    },
    {
      "cell_type": "code",
      "metadata": {
        "colab": {
          "base_uri": "https://localhost:8080/"
        },
        "id": "bn5MaX9iT_ZU",
        "outputId": "b6ef7d66-a1da-465e-bb6d-2e276e44903b"
      },
      "source": [
        "grade = float(input(\"Please enter your grade:\"))\n",
        "\n",
        "if grade>= 75:\n",
        "  print(\"Passed\")\n",
        "elif grade < 75 and grade >=74:\n",
        "  print(\"Remedial\")\n",
        "else:\n",
        "  print(\"Failed\")"
      ],
      "execution_count": 37,
      "outputs": [
        {
          "output_type": "stream",
          "name": "stdout",
          "text": [
            "Please enter your grade:72.25\n",
            "Failed\n"
          ]
        }
      ]
    }
  ]
}